{
  "nbformat": 4,
  "nbformat_minor": 0,
  "metadata": {
    "colab": {
      "name": "31-07-2021_TCS.NS_Ensemble_Technique.ipynb",
      "provenance": [],
      "collapsed_sections": [],
      "authorship_tag": "ABX9TyPfYGvZh9LMzce/drKHEUTr",
      "include_colab_link": true
    },
    "kernelspec": {
      "name": "python3",
      "display_name": "Python 3"
    },
    "language_info": {
      "name": "python"
    }
  },
  "cells": [
    {
      "cell_type": "markdown",
      "metadata": {
        "id": "view-in-github",
        "colab_type": "text"
      },
      "source": [
        "<a href=\"https://colab.research.google.com/github/SakshiTalreja/Stock-Market-Prediction/blob/main/31_07_2021_TCS_NS_Ensemble_Technique.ipynb\" target=\"_parent\"><img src=\"https://colab.research.google.com/assets/colab-badge.svg\" alt=\"Open In Colab\"/></a>"
      ]
    },
    {
      "cell_type": "code",
      "metadata": {
        "id": "95clzIkMfD-M"
      },
      "source": [
        "from sklearn.metrics import mean_squared_error\n",
        "from sklearn.model_selection import train_test_split\n",
        "import pandas as pd\n",
        "import numpy as np\n",
        "import matplotlib.pyplot as plt\n",
        "import seaborn as sb \n",
        "from sklearn.model_selection import cross_val_score \n",
        "from sklearn.metrics import r2_score \n",
        "from sklearn.model_selection import KFold  "
      ],
      "execution_count": null,
      "outputs": []
    },
    {
      "cell_type": "code",
      "metadata": {
        "id": "db4ohLgf1zfr"
      },
      "source": [
        "df = pd.read_csv('TCS.NS.csv')\n",
        "# user_y = input(\"What you want to predict?\\n1. Open\\n2. High\\n3. Low\\n4. Close\\n5. RSI(Buy/Sell)\\nInput: \")\n",
        "# y = df.loc[:,user_y]\n",
        "x = df[['Sno','Open','Close', 'SMA Open', 'SMA Close', 'RS']]  \n",
        "y = df[['High', 'Low', 'RSI']]\n",
        "train_accuracy = []\n",
        "test_accuracy = []\n",
        "train_rsme = []\n",
        "test_rsme = []\n",
        "kfolds = []\n",
        "kfold_accuracy = []"
      ],
      "execution_count": null,
      "outputs": []
    },
    {
      "cell_type": "code",
      "metadata": {
        "id": "bGq8_UMOzRVj"
      },
      "source": [
        "def accuracy_score(y_train, y_pred_train, y_test, y_pred_test):\n",
        "  print(\"Accuracy in Training: \", r2_score(y_train, y_pred_train)*100)\n",
        "  train_accuracy.append(r2_score(y_train, y_pred_train)*100)\n",
        "  print(\"Accuracy in Testing: \", r2_score(y_test, y_pred_test)*100)\n",
        "  test_accuracy.append(r2_score(y_test, y_pred_test)*100)"
      ],
      "execution_count": null,
      "outputs": []
    },
    {
      "cell_type": "code",
      "metadata": {
        "id": "2LmSubhMzxWO"
      },
      "source": [
        "def rsme(y_train, y_pred_train, y_test, y_pred_test):\n",
        "  rsme_test = mean_squared_error(y_test, y_pred_test, squared=False)\n",
        "  rsme_train = mean_squared_error(y_train, y_pred_train, squared=False)\n",
        "  train_rsme.append(rsme_train)\n",
        "  test_rsme.append(rsme_test)\n",
        "  print(\"RSME Train: \", rsme_train)\n",
        "  print(\"RSME Test: \", rsme_test)"
      ],
      "execution_count": null,
      "outputs": []
    },
    {
      "cell_type": "code",
      "metadata": {
        "id": "YiofSHklcM1a"
      },
      "source": [
        "def k_fold(algo, x, y, cv):\n",
        "  kf = KFold(n_splits=cv, random_state=None) \n",
        "  kfolds.append(cv)\n",
        "  scores = []\n",
        "  model = algo\n",
        "  for train_index, test_index in kf.split(x):\n",
        "    X_train, X_test, Y_train, Y_test = x.iloc[train_index], x.iloc[test_index], y.iloc[train_index], y.iloc[test_index]\n",
        "    model.fit(X_train, Y_train)\n",
        "    Y_pred_train = model.predict(X_train) \n",
        "    scores.append(r2_score(Y_train, Y_pred_train))\n",
        "  print(\"Accuracy: {}\".format(np.mean(scores)*100)) \n",
        "  kfold_accuracy.append(np.mean(scores)*100)"
      ],
      "execution_count": null,
      "outputs": []
    },
    {
      "cell_type": "code",
      "metadata": {
        "id": "ETNvwqTS2k4S"
      },
      "source": [
        "x_train, x_test, y_train, y_test = train_test_split(x, y, test_size=0.3, random_state = 0)"
      ],
      "execution_count": null,
      "outputs": []
    },
    {
      "cell_type": "markdown",
      "metadata": {
        "id": "RglxxgIvphjz"
      },
      "source": [
        "KNN"
      ]
    },
    {
      "cell_type": "code",
      "metadata": {
        "id": "8a9FEnPhpame",
        "colab": {
          "base_uri": "https://localhost:8080/"
        },
        "outputId": "c3ef0953-a064-4581-bf79-cdc30247313c"
      },
      "source": [
        "from sklearn.neighbors import KNeighborsRegressor\n",
        "from sklearn.metrics import r2_score\n",
        "knn_model = KNeighborsRegressor(n_neighbors=7)\n",
        "knn_model.fit(x_train, y_train)\n",
        "y_pred_train_knn = knn_model.predict(x_train)\n",
        "y_pred_test_knn = knn_model.predict(x_test)\n",
        "accuracy_score(y_train, y_pred_train_knn, y_test, y_pred_test_knn)"
      ],
      "execution_count": null,
      "outputs": [
        {
          "output_type": "stream",
          "name": "stdout",
          "text": [
            "Accuracy in Training:  93.40295538407167\n",
            "Accuracy in Testing:  89.97607401635844\n"
          ]
        }
      ]
    },
    {
      "cell_type": "code",
      "metadata": {
        "id": "sq_FnjPmtE6S",
        "colab": {
          "base_uri": "https://localhost:8080/"
        },
        "outputId": "fb37a0d3-75a9-4fda-8a57-e96ed5224362"
      },
      "source": [
        "rsme(y_train, y_pred_train_knn, y_test, y_pred_test_knn)"
      ],
      "execution_count": null,
      "outputs": [
        {
          "output_type": "stream",
          "name": "stdout",
          "text": [
            "RSME Train:  19.632393365037217\n",
            "RSME Test:  18.994418240666672\n"
          ]
        }
      ]
    },
    {
      "cell_type": "code",
      "metadata": {
        "id": "cmx7AQTNF174",
        "colab": {
          "base_uri": "https://localhost:8080/"
        },
        "outputId": "d1ad84bd-6c2c-431f-f602-ac63fa6114f0"
      },
      "source": [
        "k_fold(KNeighborsRegressor(), x, y, 10) "
      ],
      "execution_count": null,
      "outputs": [
        {
          "output_type": "stream",
          "name": "stdout",
          "text": [
            "Accuracy: 95.36968670162857\n"
          ]
        }
      ]
    },
    {
      "cell_type": "markdown",
      "metadata": {
        "id": "mdzC4JJqxbGx"
      },
      "source": [
        "Random Forest"
      ]
    },
    {
      "cell_type": "code",
      "metadata": {
        "id": "DQV1eIDHS3FO",
        "colab": {
          "base_uri": "https://localhost:8080/"
        },
        "outputId": "37c1bfae-d292-4041-868f-b50866d06b39"
      },
      "source": [
        "from sklearn.ensemble import RandomForestRegressor\n",
        "rf_model = RandomForestRegressor(n_estimators=100, random_state=0, max_depth=10)\n",
        "rf_model.fit(x_train, y_train)\n",
        "y_pred_train_rf = rf_model.predict(x_train)\n",
        "y_pred_test_rf = rf_model.predict(x_test)\n",
        "accuracy_score(y_train, y_pred_train_rf, y_test, y_pred_test_rf)"
      ],
      "execution_count": null,
      "outputs": [
        {
          "output_type": "stream",
          "name": "stdout",
          "text": [
            "Accuracy in Training:  99.10069711497317\n",
            "Accuracy in Testing:  93.72463499395556\n"
          ]
        }
      ]
    },
    {
      "cell_type": "code",
      "metadata": {
        "id": "RLKhmZTZzGUs",
        "colab": {
          "base_uri": "https://localhost:8080/"
        },
        "outputId": "083daa71-c8c7-46fe-d07f-893c16e435b5"
      },
      "source": [
        "rsme(y_train, y_pred_train_rf, y_test, y_pred_test_rf) "
      ],
      "execution_count": null,
      "outputs": [
        {
          "output_type": "stream",
          "name": "stdout",
          "text": [
            "RSME Train:  6.490097610873037\n",
            "RSME Test:  15.330465204150137\n"
          ]
        }
      ]
    },
    {
      "cell_type": "code",
      "metadata": {
        "id": "iF2g1jkQz-bc",
        "colab": {
          "base_uri": "https://localhost:8080/"
        },
        "outputId": "57659641-0f5a-4353-929d-2268393b1506"
      },
      "source": [
        "k_fold(RandomForestRegressor(), x, y, 10)"
      ],
      "execution_count": null,
      "outputs": [
        {
          "output_type": "stream",
          "name": "stdout",
          "text": [
            "Accuracy: 99.19982324926737\n"
          ]
        }
      ]
    },
    {
      "cell_type": "markdown",
      "metadata": {
        "id": "PYJZa05Y_wfO"
      },
      "source": [
        "SVR"
      ]
    },
    {
      "cell_type": "code",
      "metadata": {
        "id": "PBdRQtfo-ygy"
      },
      "source": [
        "from sklearn.preprocessing import StandardScaler\n",
        "sc_x = StandardScaler().fit_transform(x)\n",
        "sc_y = StandardScaler().fit_transform(y) \n",
        "x_train_sc, x_test_sc, y_train_sc, y_test_sc = train_test_split(sc_x, sc_y, test_size = 0.3, random_state = 0)"
      ],
      "execution_count": null,
      "outputs": []
    },
    {
      "cell_type": "code",
      "metadata": {
        "id": "UYi4rTEhDhnm",
        "colab": {
          "base_uri": "https://localhost:8080/"
        },
        "outputId": "4ea1be0c-2e0e-412d-9162-3399dd1266ad"
      },
      "source": [
        "from sklearn.svm import SVR\n",
        "svr_model = SVR(kernel='rbf')\n",
        "svr_model.fit(x_train_sc, y_train_sc[:,0])\n",
        "y_pred_train_svr = svr_model.predict(x_train)\n",
        "y_pred_test_svr = svr_model.predict(x_test) \n",
        "accuracy_score(y_train_sc[:, 0], y_pred_train_svr, y_test_sc[:, 0], y_pred_test_svr)"
      ],
      "execution_count": null,
      "outputs": [
        {
          "output_type": "stream",
          "name": "stdout",
          "text": [
            "Accuracy in Training:  -8.941379196377298\n",
            "Accuracy in Testing:  -12.213403520218113\n"
          ]
        }
      ]
    },
    {
      "cell_type": "code",
      "metadata": {
        "id": "TMjvIRCOgjHE",
        "colab": {
          "base_uri": "https://localhost:8080/"
        },
        "outputId": "feed5dfe-c0ff-4de7-efde-9b8d85cf79af"
      },
      "source": [
        "rsme(y_train_sc[:, 0], y_pred_train_svr, y_test_sc[:, 0], y_pred_test_svr) "
      ],
      "execution_count": null,
      "outputs": [
        {
          "output_type": "stream",
          "name": "stdout",
          "text": [
            "RSME Train:  1.0291744113789416\n",
            "RSME Test:  1.0909951232586892\n"
          ]
        }
      ]
    },
    {
      "cell_type": "code",
      "metadata": {
        "id": "7iqjbO5OrQMz",
        "colab": {
          "base_uri": "https://localhost:8080/"
        },
        "outputId": "9bd83d1a-67a2-43d0-fc2f-c50a9235f41a"
      },
      "source": [
        "k_fold(SVR(), x, y.iloc[:, 0], 5)                      "
      ],
      "execution_count": null,
      "outputs": [
        {
          "output_type": "stream",
          "name": "stdout",
          "text": [
            "Accuracy: 0.6942785701179077\n"
          ]
        }
      ]
    },
    {
      "cell_type": "markdown",
      "metadata": {
        "id": "Z2b-0lgZetW-"
      },
      "source": [
        "Logistic Regression"
      ]
    },
    {
      "cell_type": "code",
      "metadata": {
        "id": "9pxbtzc4esCm",
        "colab": {
          "base_uri": "https://localhost:8080/"
        },
        "outputId": "43175200-d9f0-4600-b135-0f4b8855ec21"
      },
      "source": [
        "from sklearn.linear_model import LogisticRegression\n",
        "lgr_model = LogisticRegression(solver='liblinear')\n",
        "lgr_model.fit(x_train, y_train.iloc[:, 0].astype('int'))\n",
        "y_pred_train_lgr = lgr_model.predict(x_train)\n",
        "y_pred_test_lgr = lgr_model.predict(x_test)\n",
        "accuracy_score(y_train.iloc[:,0].astype('int'), y_pred_train_lgr, y_test.iloc[:,0].astype('int'), y_pred_test_lgr)"
      ],
      "execution_count": null,
      "outputs": [
        {
          "output_type": "stream",
          "name": "stdout",
          "text": [
            "Accuracy in Training:  88.16897830599304\n",
            "Accuracy in Testing:  73.86424960573014\n"
          ]
        }
      ]
    },
    {
      "cell_type": "code",
      "metadata": {
        "id": "sZw1mmMRnED4",
        "colab": {
          "base_uri": "https://localhost:8080/"
        },
        "outputId": "6419f26d-18ac-4ff1-d298-b78a67afca37"
      },
      "source": [
        "rsme(y_train.iloc[:,0].astype('int'), y_pred_train_lgr, y_test.iloc[:,0].astype('int'), y_pred_test_lgr)"
      ],
      "execution_count": null,
      "outputs": [
        {
          "output_type": "stream",
          "name": "stdout",
          "text": [
            "RSME Train:  107.72197797978508\n",
            "RSME Test:  167.2379598394683\n"
          ]
        }
      ]
    },
    {
      "cell_type": "code",
      "metadata": {
        "id": "hl3Jgjgu3vp0",
        "colab": {
          "base_uri": "https://localhost:8080/"
        },
        "outputId": "ff195d05-87f8-453a-f57b-8cb7de21f361"
      },
      "source": [
        "k_fold(LogisticRegression(solver='liblinear'), x, y.iloc[:, 0].astype('int'), 5)"
      ],
      "execution_count": null,
      "outputs": [
        {
          "output_type": "stream",
          "name": "stdout",
          "text": [
            "Accuracy: 88.85154107865458\n"
          ]
        }
      ]
    },
    {
      "cell_type": "markdown",
      "metadata": {
        "id": "DhT6Ep50GMiE"
      },
      "source": [
        "Multiple Linear Regression"
      ]
    },
    {
      "cell_type": "code",
      "metadata": {
        "id": "b5cUoU_eGQ2Z",
        "colab": {
          "base_uri": "https://localhost:8080/"
        },
        "outputId": "4eb132e8-2551-484c-e9aa-beb8635d041c"
      },
      "source": [
        "from sklearn.linear_model import LinearRegression\n",
        "lr_model = LinearRegression()\n",
        "lr_model.fit(x_train, y_train)\n",
        "y_pred_train_lr = lr_model.predict(x_train)\n",
        "y_pred_test_lr = lr_model.predict(x_test)\n",
        "accuracy_score(y_train, y_pred_train_lr, y_test, y_pred_test_lr)"
      ],
      "execution_count": null,
      "outputs": [
        {
          "output_type": "stream",
          "name": "stdout",
          "text": [
            "Accuracy in Training:  96.9882239291464\n",
            "Accuracy in Testing:  97.31434429554318\n"
          ]
        }
      ]
    },
    {
      "cell_type": "code",
      "metadata": {
        "id": "gYtPABrkHPSV",
        "colab": {
          "base_uri": "https://localhost:8080/"
        },
        "outputId": "e26e4022-4301-450c-d9df-5c48a2f22c69"
      },
      "source": [
        "rsme(y_train, y_pred_train_lr, y_test, y_pred_test_lr)"
      ],
      "execution_count": null,
      "outputs": [
        {
          "output_type": "stream",
          "name": "stdout",
          "text": [
            "RSME Train:  13.36164398890623\n",
            "RSME Test:  11.933378809956613\n"
          ]
        }
      ]
    },
    {
      "cell_type": "code",
      "metadata": {
        "id": "vratq8meHk_z",
        "colab": {
          "base_uri": "https://localhost:8080/"
        },
        "outputId": "bea4d549-62e9-411e-b0ee-5c553b9d56bf"
      },
      "source": [
        "k_fold(LinearRegression(), x, y, 10)"
      ],
      "execution_count": null,
      "outputs": [
        {
          "output_type": "stream",
          "name": "stdout",
          "text": [
            "Accuracy: 97.15366052545819\n"
          ]
        }
      ]
    },
    {
      "cell_type": "markdown",
      "metadata": {
        "id": "hqdvk5MqiM67"
      },
      "source": [
        "Algorithms Analysis\n"
      ]
    },
    {
      "cell_type": "code",
      "metadata": {
        "id": "gHAKL-d4h5ad",
        "colab": {
          "base_uri": "https://localhost:8080/"
        },
        "outputId": "eca119d0-868d-4c87-9ec6-308fdc6c877f"
      },
      "source": [
        "df_algo = pd.DataFrame({'Algorithm': ['KNN', 'Random Forest', 'SVR', 'Logistic', 'Multiple Linear'], 'Train Accuracy': train_accuracy, 'Test Accuracy': test_accuracy, 'Train RMSE': train_rsme, 'Test RMSE': test_rsme, 'KFold': kfolds, 'Kfold Accuracy': kfold_accuracy})\n",
        "df_algo.set_index('Algorithm', inplace=True)\n",
        "print(df_algo)"
      ],
      "execution_count": null,
      "outputs": [
        {
          "output_type": "stream",
          "name": "stdout",
          "text": [
            "                 Train Accuracy  Test Accuracy  ...  KFold  Kfold Accuracy\n",
            "Algorithm                                       ...                       \n",
            "KNN                   93.402955      89.976074  ...     10       95.369687\n",
            "Random Forest         99.100697      93.724635  ...     10       99.199823\n",
            "SVR                   -8.941379     -12.213404  ...      5        0.694279\n",
            "Logistic              88.168978      73.864250  ...      5       88.851541\n",
            "Multiple Linear       96.988224      97.314344  ...     10       97.153661\n",
            "\n",
            "[5 rows x 6 columns]\n"
          ]
        }
      ]
    },
    {
      "cell_type": "code",
      "metadata": {
        "id": "TdkZpTl0n0-l",
        "colab": {
          "base_uri": "https://localhost:8080/",
          "height": 354
        },
        "outputId": "133222c5-2d0f-4892-e933-48caaaa058d4"
      },
      "source": [
        "df_algo[['Train Accuracy', 'Test Accuracy', 'Train RMSE', 'Test RMSE', 'Kfold Accuracy']].plot(subplots=False,figsize=(12,5))"
      ],
      "execution_count": null,
      "outputs": [
        {
          "output_type": "execute_result",
          "data": {
            "text/plain": [
              "<matplotlib.axes._subplots.AxesSubplot at 0x7f767e6f4910>"
            ]
          },
          "metadata": {},
          "execution_count": 69
        },
        {
          "output_type": "display_data",
          "data": {
            "image/png": "[encoded data removed]",
            "text/plain": [
              "<Figure size 864x360 with 1 Axes>"
            ]
          },
          "metadata": {
            "needs_background": "light"
          }
        }
      ]
    },
    {
      "cell_type": "code",
      "metadata": {
        "id": "rKItpoV_QxCN",
        "colab": {
          "base_uri": "https://localhost:8080/"
        },
        "outputId": "e2c2ad2e-d5d4-459c-d4b8-8fdcd0fdb228"
      },
      "source": [
        "df_model_best = df_algo.loc[((df_algo['Test Accuracy']>80) & (df_algo['Train Accuracy']>80)), ['Train Accuracy', 'Test Accuracy', 'Kfold Accuracy']]\n",
        "print(df_model_best)"
      ],
      "execution_count": null,
      "outputs": [
        {
          "output_type": "stream",
          "name": "stdout",
          "text": [
            "                 Train Accuracy  Test Accuracy  Kfold Accuracy\n",
            "Algorithm                                                     \n",
            "KNN                   93.402955      89.976074       95.369687\n",
            "Random Forest         99.100697      93.724635       99.199823\n",
            "Multiple Linear       96.988224      97.314344       97.153661\n"
          ]
        }
      ]
    },
    {
      "cell_type": "code",
      "metadata": {
        "id": "RWm08I6TSu7g",
        "colab": {
          "base_uri": "https://localhost:8080/"
        },
        "outputId": "c481deb3-661e-49f4-eea7-a5441c2bb388"
      },
      "source": [
        "df_compare_knn = pd.DataFrame({'Y test RSI': y_test['RSI'], 'Y pred RSI': y_pred_test_knn[:, 2]})\n",
        "df_compare_rf = pd.DataFrame({'Y test RSI': y_test['RSI'], 'Y pred RSI': y_pred_test_rf[:, 2]})\n",
        "df_compare_mlr = pd.DataFrame({'Y test RSI': y_test['RSI'], 'Y pred RSI': y_pred_test_lr[:, 2]})\n",
        "print(df_compare_knn.iat[0,0])\n",
        "print(df_compare_knn)"
      ],
      "execution_count": null,
      "outputs": [
        {
          "output_type": "stream",
          "name": "stdout",
          "text": [
            "48.53708227\n",
            "     Y test RSI  Y pred RSI\n",
            "221   48.537082   53.096988\n",
            "101   71.748946   66.291558\n",
            "213   76.980865   67.040529\n",
            "190   57.669766   47.056507\n",
            "137   32.695044   36.450099\n",
            "..          ...         ...\n",
            "184   41.473099   43.247975\n",
            "61    46.685536   49.016094\n",
            "110   77.480932   71.832061\n",
            "52    22.647849   40.033268\n",
            "66    50.530198   45.279376\n",
            "\n",
            "[71 rows x 2 columns]\n"
          ]
        }
      ]
    },
    {
      "cell_type": "code",
      "metadata": {
        "id": "tvn6kH5u392b"
      },
      "source": [
        "sb_knn_pred = []\n",
        "i = 0\n",
        "while i<len(df_compare_knn):\n",
        "  if df_compare_knn.iat[i, 1]<30:\n",
        "    sb_knn_pred.append(\"Buy\")\n",
        "  elif df_compare_knn.iat[i, 1]>70:\n",
        "    sb_knn_pred.append(\"Sell\")\n",
        "  else:\n",
        "    sb_knn_pred.append(\"Hold\")\n",
        "  i=i+1"
      ],
      "execution_count": null,
      "outputs": []
    },
    {
      "cell_type": "code",
      "metadata": {
        "id": "tdhYz5b_cTxC"
      },
      "source": [
        "sb_rf_pred = []\n",
        "j = 0\n",
        "while j<len(df_compare_rf):\n",
        "  if df_compare_rf.iat[j, 1]<30:\n",
        "    sb_rf_pred.append(\"Buy\")\n",
        "  elif df_compare_rf.iat[j, 1]>70:\n",
        "    sb_rf_pred.append(\"Sell\")\n",
        "  else:\n",
        "    sb_rf_pred.append(\"Hold\")\n",
        "  j=j+1"
      ],
      "execution_count": null,
      "outputs": []
    },
    {
      "cell_type": "code",
      "metadata": {
        "id": "jYZXfBAGcbQB"
      },
      "source": [
        "sb_mlr_pred = []\n",
        "k = 0\n",
        "while k<len(df_compare_mlr):\n",
        "  if df_compare_mlr.iat[k, 1]<30:\n",
        "    sb_mlr_pred.append(\"Buy\")\n",
        "  elif df_compare_mlr.iat[k, 1]>70:\n",
        "    sb_mlr_pred.append(\"Sell\")\n",
        "  else:\n",
        "    sb_mlr_pred.append(\"Hold\")\n",
        "  k=k+1"
      ],
      "execution_count": null,
      "outputs": []
    },
    {
      "cell_type": "code",
      "metadata": {
        "id": "07JGIm7gcr5R"
      },
      "source": [
        "sb_pred_df = pd.DataFrame({'KNN': sb_knn_pred, 'RF': sb_rf_pred, 'MLR': sb_mlr_pred})\n",
        "sb_pred = []\n",
        "l = 0\n",
        "while l<len(sb_pred_df):\n",
        "  if sb_pred_df.iat[l, 0]==sb_pred_df.iat[l, 1]:\n",
        "    sb_pred.append(sb_pred_df.iat[l, 0])\n",
        "  elif sb_pred_df.iat[l, 1]==sb_pred_df.iat[l, 2]:\n",
        "    sb_pred.append(sb_pred_df.iat[l, 1])\n",
        "  elif sb_pred_df.iat[l, 0]==sb_pred_df.iat[l, 2]:\n",
        "    sb_pred.append(sb_pred_df.iat[l, 0])\n",
        "  l=l+1"
      ],
      "execution_count": null,
      "outputs": []
    },
    {
      "cell_type": "code",
      "metadata": {
        "id": "p_DxDgiHeEmi"
      },
      "source": [
        "sb_actual = []\n",
        "m = 0\n",
        "while m<len(df_compare_knn):\n",
        "  if df_compare_knn.iat[m, 0]<30:\n",
        "    sb_actual.append(\"Buy\")\n",
        "  elif df_compare_knn.iat[m, 0]>70:\n",
        "    sb_actual.append(\"Sell\")\n",
        "  else:\n",
        "    sb_actual.append(\"Hold\")\n",
        "  m=m+1"
      ],
      "execution_count": null,
      "outputs": []
    },
    {
      "cell_type": "code",
      "metadata": {
        "id": "W5dzK2tgeUGq",
        "colab": {
          "base_uri": "https://localhost:8080/"
        },
        "outputId": "912d29ec-54f0-4bde-c323-ed87e3446b0b"
      },
      "source": [
        "final_df_compare = pd.DataFrame({'Actual': sb_actual, 'KNN': sb_knn_pred, 'RF': sb_rf_pred, 'MLR': sb_mlr_pred, 'Predicted': sb_pred})\n",
        "print(final_df_compare.head(50))"
      ],
      "execution_count": null,
      "outputs": [
        {
          "output_type": "stream",
          "name": "stdout",
          "text": [
            "   Actual   KNN    RF   MLR Predicted\n",
            "0    Hold  Hold  Hold  Hold      Hold\n",
            "1    Sell  Hold  Hold  Sell      Hold\n",
            "2    Sell  Hold  Sell  Sell      Sell\n",
            "3    Hold  Hold  Hold  Hold      Hold\n",
            "4    Hold  Hold  Hold  Hold      Hold\n",
            "5    Hold  Hold  Hold  Hold      Hold\n",
            "6    Hold  Hold  Hold  Hold      Hold\n",
            "7    Sell  Sell  Sell  Sell      Sell\n",
            "8    Hold  Hold  Hold  Hold      Hold\n",
            "9    Sell  Hold  Hold  Sell      Hold\n",
            "10   Hold  Hold  Hold  Hold      Hold\n",
            "11   Sell  Hold  Hold  Hold      Hold\n",
            "12    Buy  Hold  Hold   Buy      Hold\n",
            "13   Hold  Hold  Hold  Hold      Hold\n",
            "14   Sell  Hold  Hold  Sell      Hold\n",
            "15    Buy  Hold  Hold  Hold      Hold\n",
            "16   Hold  Hold  Hold  Hold      Hold\n",
            "17   Hold  Sell  Hold  Hold      Hold\n",
            "18   Hold  Hold  Hold  Hold      Hold\n",
            "19   Hold  Hold  Hold  Hold      Hold\n",
            "20   Hold  Hold  Hold  Hold      Hold\n",
            "21   Sell  Hold  Sell  Sell      Sell\n",
            "22   Hold  Sell  Sell  Sell      Sell\n",
            "23   Sell  Sell  Hold  Sell      Sell\n",
            "24   Hold  Hold  Hold  Hold      Hold\n",
            "25   Hold  Hold  Hold  Hold      Hold\n",
            "26   Hold  Sell  Hold  Hold      Hold\n",
            "27   Hold  Hold  Hold  Hold      Hold\n",
            "28   Hold  Hold  Hold  Hold      Hold\n",
            "29   Hold  Hold  Hold  Hold      Hold\n",
            "30   Hold  Hold  Hold  Hold      Hold\n",
            "31    Buy  Hold  Hold   Buy      Hold\n",
            "32   Hold  Hold  Hold  Hold      Hold\n",
            "33   Hold  Hold  Hold  Hold      Hold\n",
            "34   Hold  Hold  Hold  Hold      Hold\n",
            "35   Hold  Hold  Hold  Hold      Hold\n",
            "36   Sell  Hold  Hold  Sell      Hold\n",
            "37   Hold  Hold  Hold  Hold      Hold\n",
            "38   Hold  Hold  Hold  Hold      Hold\n",
            "39    Buy  Hold  Hold  Hold      Hold\n",
            "40   Hold  Hold  Hold  Hold      Hold\n",
            "41   Hold  Hold  Hold  Hold      Hold\n",
            "42   Hold  Hold  Hold  Hold      Hold\n",
            "43   Hold  Hold  Hold  Hold      Hold\n",
            "44   Sell  Hold  Hold  Sell      Hold\n",
            "45   Hold  Hold  Hold  Hold      Hold\n",
            "46   Sell  Hold  Sell  Sell      Sell\n",
            "47   Hold  Hold  Hold  Hold      Hold\n",
            "48   Hold  Hold  Hold  Hold      Hold\n",
            "49   Hold  Hold  Hold  Hold      Hold\n"
          ]
        }
      ]
    }
  ]
}