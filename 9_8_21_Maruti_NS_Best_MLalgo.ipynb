{
  "nbformat": 4,
  "nbformat_minor": 0,
  "metadata": {
    "colab": {
      "name": "9-8-21_Maruti.NS_Best_MLalgo.ipynb",
      "provenance": [],
      "collapsed_sections": [],
      "authorship_tag": "ABX9TyPkiSJGzBmarfHJwyVsu+kk",
      "include_colab_link": true
    },
    "kernelspec": {
      "name": "python3",
      "display_name": "Python 3"
    },
    "language_info": {
      "name": "python"
    }
  },
  "cells": [
    {
      "cell_type": "markdown",
      "metadata": {
        "id": "view-in-github",
        "colab_type": "text"
      },
      "source": [
        "<a href=\"https://colab.research.google.com/github/SakshiTalreja/Stock-Market-Prediction/blob/main/9_8_21_Maruti_NS_Best_MLalgo.ipynb\" target=\"_parent\"><img src=\"https://colab.research.google.com/assets/colab-badge.svg\" alt=\"Open In Colab\"/></a>"
      ]
    },
    {
      "cell_type": "code",
      "metadata": {
        "id": "dYegicqrn7xO"
      },
      "source": [
        "from sklearn.metrics import mean_squared_error \n",
        "from sklearn.model_selection import train_test_split\n",
        "import pandas as pd\n",
        "import numpy as np\n",
        "import matplotlib.pyplot as plt \n",
        "import seaborn as sb \n",
        "from sklearn.model_selection import cross_val_score \n",
        "from sklearn.metrics import r2_score \n",
        "from sklearn.model_selection import KFold "
      ],
      "execution_count": null,
      "outputs": []
    },
    {
      "cell_type": "code",
      "metadata": {
        "colab": {
          "base_uri": "https://localhost:8080/"
        },
        "id": "at6NzTSzoC_G",
        "outputId": "c7090e9f-8b9c-45bc-88ac-25f5e6c4533d"
      },
      "source": [
        "df = pd.read_csv('MARUTI.NS.csv')\n",
        "user_y = input(\"What you want to predict?\\n1. Open\\n2. High\\n3. Low\\n4. Close\\n5. RSI(Buy/Sell)\\nInput: \")\n",
        "user_interval = int(input(\"Number of interval in which you want data to predict: \"))\n",
        "y = df.loc[user_interval:,user_y]\n",
        "y.index=np.arange(0, len(y))\n",
        "x = df.drop(['Date', user_y], axis=1).iloc[:-user_interval, :]\n",
        "# x = x.iloc[:-1, :]\n",
        "#y = df[['High', 'Low', 'RSI']]\n",
        "train_accuracy = []\n",
        "test_accuracy = []\n",
        "train_rsme = []\n",
        "test_rsme = []\n",
        "kfolds = []\n",
        "kfold_accuracy = []"
      ],
      "execution_count": null,
      "outputs": [
        {
          "output_type": "stream",
          "text": [
            "What you want to predict?\n",
            "1. Open\n",
            "2. High\n",
            "3. Low\n",
            "4. Close\n",
            "5. RSI(Buy/Sell)\n",
            "Input: Low\n",
            "Number of interval in which you want data to predict: 7\n"
          ],
          "name": "stdout"
        }
      ]
    },
    {
      "cell_type": "code",
      "metadata": {
        "colab": {
          "base_uri": "https://localhost:8080/"
        },
        "id": "cp1qUids-xlO",
        "outputId": "153113d9-0293-4808-9fb6-cc75d378fae3"
      },
      "source": [
        "print(x)"
      ],
      "execution_count": null,
      "outputs": [
        {
          "output_type": "stream",
          "text": [
            "     Sno         Open     High  ...        RSI     SMA Open    SMA Close\n",
            "0      1  7358.000000  7380.00  ...  37.997501  7373.230013  7344.423340\n",
            "1      2  7180.000000  7180.00  ...  33.781269  7355.246680  7317.226693\n",
            "2      3  7050.000000  7132.25  ...  39.625980  7328.913346  7302.396680\n",
            "3      4  7059.899902  7098.00  ...  41.937710  7314.240006  7291.506673\n",
            "4      5  7054.000000  7133.00  ...  26.117779  7301.906673  7243.433333\n",
            "..   ...          ...      ...  ...        ...          ...          ...\n",
            "614  615  7251.700195  7297.00  ...  23.527954  7478.966667  7437.043359\n",
            "615  616  7180.000000  7265.00  ...  33.495292  7451.233333  7420.056706\n",
            "616  617  7302.000000  7325.00  ...  36.650826  7437.666667  7405.633366\n",
            "617  618  7300.000000  7375.00  ...  30.566525  7424.333333  7386.263379\n",
            "618  619  7307.000000  7360.00  ...  28.740320  7403.133333  7363.726693\n",
            "\n",
            "[619 rows x 15 columns]\n"
          ],
          "name": "stdout"
        }
      ]
    },
    {
      "cell_type": "code",
      "metadata": {
        "id": "gfOUu8PPoJOq"
      },
      "source": [
        "def accuracy_score(y_train, y_pred_train, y_test, y_pred_test):\n",
        "  print(\"Accuracy in Training: \", r2_score(y_train, y_pred_train)*100)\n",
        "  train_accuracy.append(r2_score(y_train, y_pred_train)*100)\n",
        "  print(\"Accuracy in Testing: \", r2_score(y_test, y_pred_test)*100)\n",
        "  test_accuracy.append(r2_score(y_test, y_pred_test)*100)"
      ],
      "execution_count": null,
      "outputs": []
    },
    {
      "cell_type": "code",
      "metadata": {
        "id": "Z89tRMhJuEXH"
      },
      "source": [
        "def rsme(y_train, y_pred_train, y_test, y_pred_test):\n",
        "  rsme_test = mean_squared_error(y_test, y_pred_test, squared=False)\n",
        "  rsme_train = mean_squared_error(y_train, y_pred_train, squared=False)\n",
        "  train_rsme.append(rsme_train)\n",
        "  test_rsme.append(rsme_test)\n",
        "  print(\"RSME Train: \", rsme_train)\n",
        "  print(\"RSME Test: \", rsme_test)"
      ],
      "execution_count": null,
      "outputs": []
    },
    {
      "cell_type": "code",
      "metadata": {
        "id": "jGluvvnYuHL1"
      },
      "source": [
        "def k_fold(algo, kx, ky, cv):\n",
        "  kf = KFold(n_splits=cv, random_state=None) \n",
        "  kfolds.append(cv)\n",
        "  scores = []\n",
        "  model = algo\n",
        "  for train_index, test_index in kf.split(kx):\n",
        "    X_train, X_test, Y_train, Y_test = kx.iloc[train_index], kx.iloc[test_index], ky[train_index], ky[test_index]\n",
        "    model.fit(X_train, np.ravel(Y_train))\n",
        "    Y_pred_train = model.predict(X_train) \n",
        "    scores.append(r2_score(Y_train, Y_pred_train))\n",
        "  print(\"Accuracy: {}\".format(np.mean(scores)*100)) \n",
        "  kfold_accuracy.append(np.mean(scores)*100)"
      ],
      "execution_count": null,
      "outputs": []
    },
    {
      "cell_type": "code",
      "metadata": {
        "id": "AgEHLWNPuJ_z"
      },
      "source": [
        "x_train, x_test, y_train, y_test = train_test_split(x, y, test_size=0.3, random_state = 0)"
      ],
      "execution_count": null,
      "outputs": []
    },
    {
      "cell_type": "markdown",
      "metadata": {
        "id": "hAmJIa22uNjG"
      },
      "source": [
        "KNN"
      ]
    },
    {
      "cell_type": "code",
      "metadata": {
        "colab": {
          "base_uri": "https://localhost:8080/"
        },
        "id": "VVvLut1_uRIW",
        "outputId": "dc1ec22e-7244-441b-fa8f-4e4e78f62ccf"
      },
      "source": [
        "from sklearn.neighbors import KNeighborsRegressor\n",
        "from sklearn.metrics import r2_score\n",
        "knn_model = KNeighborsRegressor(n_neighbors=7)\n",
        "knn_model.fit(x_train, y_train)\n",
        "y_pred_train_knn = knn_model.predict(x_train)\n",
        "y_pred_test_knn = knn_model.predict(x_test)\n",
        "accuracy_score(y_train, y_pred_train_knn, y_test, y_pred_test_knn)"
      ],
      "execution_count": null,
      "outputs": [
        {
          "output_type": "stream",
          "text": [
            "Accuracy in Training:  26.490744639047513\n",
            "Accuracy in Testing:  -5.889059268706309\n"
          ],
          "name": "stdout"
        }
      ]
    },
    {
      "cell_type": "code",
      "metadata": {
        "colab": {
          "base_uri": "https://localhost:8080/"
        },
        "id": "eKepl0ROuVp3",
        "outputId": "c215ecb6-0760-410f-baac-264b38c77b90"
      },
      "source": [
        "rsme(y_train, y_pred_train_knn, y_test, y_pred_test_knn)"
      ],
      "execution_count": null,
      "outputs": [
        {
          "output_type": "stream",
          "text": [
            "RSME Train:  665.7215005027932\n",
            "RSME Test:  748.0704093915109\n"
          ],
          "name": "stdout"
        }
      ]
    },
    {
      "cell_type": "code",
      "metadata": {
        "colab": {
          "base_uri": "https://localhost:8080/"
        },
        "id": "DJ5zE_N3uYFS",
        "outputId": "051d1bce-016c-42a4-b81c-44448bcb1b7c"
      },
      "source": [
        "k_fold(KNeighborsRegressor(), x, y, 10) "
      ],
      "execution_count": null,
      "outputs": [
        {
          "output_type": "stream",
          "text": [
            "Accuracy: 34.602633795512794\n"
          ],
          "name": "stdout"
        }
      ]
    },
    {
      "cell_type": "markdown",
      "metadata": {
        "id": "biLX7mSuucXK"
      },
      "source": [
        "Random Forest"
      ]
    },
    {
      "cell_type": "code",
      "metadata": {
        "colab": {
          "base_uri": "https://localhost:8080/"
        },
        "id": "1plHCztVueTK",
        "outputId": "5fb9b3af-0e85-4bba-9c74-df7ae1f62277"
      },
      "source": [
        "from sklearn.ensemble import RandomForestRegressor\n",
        "rf_model = RandomForestRegressor(n_estimators=100, random_state=0, max_depth=10)\n",
        "rf_model.fit(x_train, y_train)\n",
        "y_pred_train_rf = rf_model.predict(x_train)\n",
        "y_pred_test_rf = rf_model.predict(x_test)\n",
        "accuracy_score(y_train, y_pred_train_rf, y_test, y_pred_test_rf)"
      ],
      "execution_count": null,
      "outputs": [
        {
          "output_type": "stream",
          "text": [
            "Accuracy in Training:  98.51973390420463\n",
            "Accuracy in Testing:  91.16878303704252\n"
          ],
          "name": "stdout"
        }
      ]
    },
    {
      "cell_type": "code",
      "metadata": {
        "colab": {
          "base_uri": "https://localhost:8080/"
        },
        "id": "nWBwHisHuiG1",
        "outputId": "142f3693-2579-4394-f02a-ffc7d313151e"
      },
      "source": [
        "rsme(y_train, y_pred_train_rf, y_test, y_pred_test_rf) "
      ],
      "execution_count": null,
      "outputs": [
        {
          "output_type": "stream",
          "text": [
            "RSME Train:  94.46946758187134\n",
            "RSME Test:  216.0365376846685\n"
          ],
          "name": "stdout"
        }
      ]
    },
    {
      "cell_type": "code",
      "metadata": {
        "colab": {
          "base_uri": "https://localhost:8080/"
        },
        "id": "Vr8imT2TukZd",
        "outputId": "d376d141-c654-4e44-c413-9619acc5d5c8"
      },
      "source": [
        "k_fold(RandomForestRegressor(), x, y.astype('int'), 10)"
      ],
      "execution_count": null,
      "outputs": [
        {
          "output_type": "stream",
          "text": [
            "Accuracy: 99.1170523428796\n"
          ],
          "name": "stdout"
        }
      ]
    },
    {
      "cell_type": "markdown",
      "metadata": {
        "id": "3-R571W2usft"
      },
      "source": [
        "SVR"
      ]
    },
    {
      "cell_type": "code",
      "metadata": {
        "id": "qDH9UQQEunao"
      },
      "source": [
        "from sklearn.preprocessing import StandardScaler\n",
        "sc_x = StandardScaler().fit_transform(x)\n",
        "y = np.array(y).reshape(-1, 1)\n",
        "sc_y = StandardScaler().fit_transform(y) \n",
        "x_train_sc, x_test_sc, y_train_sc, y_test_sc = train_test_split(sc_x, sc_y, test_size = 0.3, random_state = 0)"
      ],
      "execution_count": null,
      "outputs": []
    },
    {
      "cell_type": "code",
      "metadata": {
        "colab": {
          "base_uri": "https://localhost:8080/"
        },
        "id": "Uptp_2lbuqlM",
        "outputId": "f9e3e43a-40cf-494c-e24a-8e5f05d725ab"
      },
      "source": [
        "from sklearn.svm import SVR\n",
        "svr_model = SVR(kernel='rbf')\n",
        "svr_model.fit(x_train_sc, y_train_sc[:,0])\n",
        "y_pred_train_svr = svr_model.predict(x_train_sc)\n",
        "y_pred_test_svr = svr_model.predict(x_test_sc) \n",
        "accuracy_score(y_train_sc, y_pred_train_svr, y_test_sc, y_pred_test_svr)"
      ],
      "execution_count": null,
      "outputs": [
        {
          "output_type": "stream",
          "text": [
            "Accuracy in Training:  90.55244776855777\n",
            "Accuracy in Testing:  78.09637412182468\n"
          ],
          "name": "stdout"
        }
      ]
    },
    {
      "cell_type": "code",
      "metadata": {
        "colab": {
          "base_uri": "https://localhost:8080/"
        },
        "id": "2z5KC1CWuwDl",
        "outputId": "a38a4666-ddb4-4ba4-84b9-09d172f63c4c"
      },
      "source": [
        "rsme(y_train_sc, y_pred_train_svr, y_test_sc, y_pred_test_svr) "
      ],
      "execution_count": null,
      "outputs": [
        {
          "output_type": "stream",
          "text": [
            "RSME Train:  0.3123276331002238\n",
            "RSME Test:  0.4452502020047916\n"
          ],
          "name": "stdout"
        }
      ]
    },
    {
      "cell_type": "code",
      "metadata": {
        "colab": {
          "base_uri": "https://localhost:8080/"
        },
        "id": "ohP88ecIuz46",
        "outputId": "c322b1d0-e62e-4f35-8d1c-c7ce0962d970"
      },
      "source": [
        "kf = KFold(n_splits=5, random_state=None) \n",
        "kfolds.append(5)\n",
        "scores = []\n",
        "model = SVR(kernel='rbf')\n",
        "for train_index, test_index in kf.split(sc_x):\n",
        "    X_train, X_test, Y_train, Y_test = sc_x[train_index], sc_x[test_index], sc_y[train_index], sc_y[test_index]\n",
        "    model.fit(X_train, np.ravel(Y_train))\n",
        "    Y_pred_train = model.predict(X_train) \n",
        "    scores.append(r2_score(Y_train, Y_pred_train))\n",
        "print(\"Accuracy: {}\".format(np.mean(scores)*100)) \n",
        "kfold_accuracy.append(np.mean(scores)*100)"
      ],
      "execution_count": null,
      "outputs": [
        {
          "output_type": "stream",
          "text": [
            "Accuracy: 88.80335421531387\n"
          ],
          "name": "stdout"
        }
      ]
    },
    {
      "cell_type": "markdown",
      "metadata": {
        "id": "vNjle0Nru3ej"
      },
      "source": [
        "Logistic Regression"
      ]
    },
    {
      "cell_type": "code",
      "metadata": {
        "colab": {
          "base_uri": "https://localhost:8080/"
        },
        "id": "NOCvmPP6u0i1",
        "outputId": "8b828675-e99c-40a2-ebbe-ab950148f7f7"
      },
      "source": [
        "from sklearn.linear_model import LogisticRegression\n",
        "lgr_model = LogisticRegression(solver='liblinear')\n",
        "lgr_model.fit(x_train, y_train.astype('int'))\n",
        "y_pred_train_lgr = lgr_model.predict(x_train)\n",
        "y_pred_test_lgr = lgr_model.predict(x_test)\n",
        "accuracy_score(y_train.astype('int'), y_pred_train_lgr, y_test.astype('int'), y_pred_test_lgr)"
      ],
      "execution_count": null,
      "outputs": [
        {
          "output_type": "stream",
          "text": [
            "Accuracy in Training:  85.19941847580381\n",
            "Accuracy in Testing:  29.059907325290467\n"
          ],
          "name": "stdout"
        }
      ]
    },
    {
      "cell_type": "code",
      "metadata": {
        "colab": {
          "base_uri": "https://localhost:8080/"
        },
        "id": "Ch2qg03zu86K",
        "outputId": "8c4412d5-fb1d-4ddf-8bce-6d365b6d5afc"
      },
      "source": [
        "rsme(y_train.astype('int'), y_pred_train_lgr, y_test.astype('int'), y_pred_test_lgr)"
      ],
      "execution_count": null,
      "outputs": [
        {
          "output_type": "stream",
          "text": [
            "RSME Train:  298.71588531339967\n",
            "RSME Test:  612.2929274720213\n"
          ],
          "name": "stdout"
        }
      ]
    },
    {
      "cell_type": "code",
      "metadata": {
        "colab": {
          "base_uri": "https://localhost:8080/"
        },
        "id": "sBltCoveu-5-",
        "outputId": "39186907-6b3b-4d65-e246-27f178f8afe9"
      },
      "source": [
        "k_fold(LogisticRegression(solver='liblinear'), x, y.astype('int'), 5)"
      ],
      "execution_count": null,
      "outputs": [
        {
          "output_type": "stream",
          "text": [
            "/usr/local/lib/python3.7/dist-packages/sklearn/svm/_base.py:947: ConvergenceWarning: Liblinear failed to converge, increase the number of iterations.\n",
            "  \"the number of iterations.\", ConvergenceWarning)\n"
          ],
          "name": "stderr"
        },
        {
          "output_type": "stream",
          "text": [
            "Accuracy: 84.12214934158972\n"
          ],
          "name": "stdout"
        },
        {
          "output_type": "stream",
          "text": [
            "/usr/local/lib/python3.7/dist-packages/sklearn/svm/_base.py:947: ConvergenceWarning: Liblinear failed to converge, increase the number of iterations.\n",
            "  \"the number of iterations.\", ConvergenceWarning)\n"
          ],
          "name": "stderr"
        }
      ]
    },
    {
      "cell_type": "markdown",
      "metadata": {
        "id": "kiDSC96cvFeT"
      },
      "source": [
        "Multiple Linear Regression"
      ]
    },
    {
      "cell_type": "code",
      "metadata": {
        "colab": {
          "base_uri": "https://localhost:8080/"
        },
        "id": "QLq3LqV0vC84",
        "outputId": "c62a935c-f27e-4ab5-b759-9ad9be1b6189"
      },
      "source": [
        "from sklearn.linear_model import LinearRegression\n",
        "lr_model = LinearRegression()\n",
        "lr_model.fit(x_train, y_train)\n",
        "y_pred_train_lr = lr_model.predict(x_train)\n",
        "y_pred_test_lr = lr_model.predict(x_test)\n",
        "accuracy_score(y_train, y_pred_train_lr, y_test, y_pred_test_lr)"
      ],
      "execution_count": null,
      "outputs": [
        {
          "output_type": "stream",
          "text": [
            "Accuracy in Training:  81.68143915512653\n",
            "Accuracy in Testing:  80.01873172437543\n"
          ],
          "name": "stdout"
        }
      ]
    },
    {
      "cell_type": "code",
      "metadata": {
        "colab": {
          "base_uri": "https://localhost:8080/"
        },
        "id": "l-xqBEbzvInq",
        "outputId": "b5e8ec9d-d781-4958-eb73-4d1d94bda707"
      },
      "source": [
        "rsme(y_train, y_pred_train_lr, y_test, y_pred_test_lr)"
      ],
      "execution_count": null,
      "outputs": [
        {
          "output_type": "stream",
          "text": [
            "RSME Train:  332.32823983935526\n",
            "RSME Test:  324.95891543711707\n"
          ],
          "name": "stdout"
        }
      ]
    },
    {
      "cell_type": "code",
      "metadata": {
        "colab": {
          "base_uri": "https://localhost:8080/"
        },
        "id": "crqiH-0GvMYp",
        "outputId": "c3506981-305e-4f04-da5f-b6bbe39bbe21"
      },
      "source": [
        "k_fold(LinearRegression(), x, y, 10)"
      ],
      "execution_count": null,
      "outputs": [
        {
          "output_type": "stream",
          "text": [
            "Accuracy: 81.70121581333748\n"
          ],
          "name": "stdout"
        }
      ]
    },
    {
      "cell_type": "markdown",
      "metadata": {
        "id": "8AWA_pzMvS4x"
      },
      "source": [
        "Analysis"
      ]
    },
    {
      "cell_type": "code",
      "metadata": {
        "colab": {
          "base_uri": "https://localhost:8080/"
        },
        "id": "qBmpiH7wvQWf",
        "outputId": "f339f5e8-cee0-495a-c244-a26e609acb09"
      },
      "source": [
        "df_algo = pd.DataFrame({'Algorithm': ['KNN', 'Random Forest', 'SVR', 'Logistic', 'Multiple Linear'], 'Train Accuracy': train_accuracy, 'Test Accuracy': test_accuracy, 'Train RMSE': train_rsme, 'Test RMSE': test_rsme, 'KFold': kfolds, 'Kfold Accuracy': kfold_accuracy})\n",
        "df_algo.set_index('Algorithm', inplace=True)\n",
        "print(df_algo)"
      ],
      "execution_count": null,
      "outputs": [
        {
          "output_type": "stream",
          "text": [
            "                 Train Accuracy  Test Accuracy  ...  KFold  Kfold Accuracy\n",
            "Algorithm                                       ...                       \n",
            "KNN                   26.490745      -5.889059  ...     10       34.602634\n",
            "Random Forest         98.519734      91.168783  ...     10       99.117052\n",
            "SVR                   90.552448      78.096374  ...      5       88.803354\n",
            "Logistic              85.199418      29.059907  ...      5       84.122149\n",
            "Multiple Linear       81.681439      80.018732  ...     10       81.701216\n",
            "\n",
            "[5 rows x 6 columns]\n"
          ],
          "name": "stdout"
        }
      ]
    },
    {
      "cell_type": "code",
      "metadata": {
        "colab": {
          "base_uri": "https://localhost:8080/",
          "height": 351
        },
        "id": "aDHfUGuevbm0",
        "outputId": "8220bc98-f3cb-42e7-c903-b19aae0dbffd"
      },
      "source": [
        "df_algo[['Train Accuracy', 'Test Accuracy', 'Train RMSE', 'Test RMSE', 'Kfold Accuracy']].plot(subplots=False,figsize=(12,5))"
      ],
      "execution_count": null,
      "outputs": [
        {
          "output_type": "execute_result",
          "data": {
            "text/plain": [
              "<matplotlib.axes._subplots.AxesSubplot at 0x7f7f17fcff50>"
            ]
          },
          "metadata": {
            "tags": []
          },
          "execution_count": 81
        },
        {
          "output_type": "display_data",
          "data": {
            "image/png": "[encoded data removed]",
            "text/plain": [
              "<Figure size 864x360 with 1 Axes>"
            ]
          },
          "metadata": {
            "tags": [],
            "needs_background": "light"
          }
        }
      ]
    },
    {
      "cell_type": "code",
      "metadata": {
        "colab": {
          "base_uri": "https://localhost:8080/"
        },
        "id": "4MHrraSIwZ5D",
        "outputId": "22770b06-4aa0-423a-aa47-4972868beebe"
      },
      "source": [
        "df_model_best = df_algo.loc[((df_algo['Test Accuracy']>75) & (df_algo['Train Accuracy']>80)), ['Train Accuracy', 'Test Accuracy', 'Kfold Accuracy']]\n",
        "print(df_model_best)"
      ],
      "execution_count": null,
      "outputs": [
        {
          "output_type": "stream",
          "text": [
            "                 Train Accuracy  Test Accuracy  Kfold Accuracy\n",
            "Algorithm                                                     \n",
            "Random Forest         98.519734      91.168783       99.117052\n",
            "SVR                   90.552448      78.096374       88.803354\n",
            "Multiple Linear       81.681439      80.018732       81.701216\n"
          ],
          "name": "stdout"
        }
      ]
    },
    {
      "cell_type": "code",
      "metadata": {
        "colab": {
          "base_uri": "https://localhost:8080/"
        },
        "id": "MLHJ1znrBofc",
        "outputId": "254fc8b1-cb06-4163-b70c-b5e74f53f0d2"
      },
      "source": [
        "interval = int(input(\"Number of interval in which you want data to predict: \"))\n",
        "df_new = pd.DataFrame(columns=df.columns)\n",
        "for i in range(0, len(df), interval):\n",
        "  df_new = df_new.append(df.iloc[i,:], ignore_index=True)\n",
        "print(df_new)\n",
        "\n",
        "# save H5 file"
      ],
      "execution_count": null,
      "outputs": [
        {
          "output_type": "stream",
          "text": [
            "Number of interval in which you want data to predict: 7\n",
            "    Sno        Date         Open  ...        RSI     SMA Open    SMA Close\n",
            "0     1  21-01-2019  7358.000000  ...  37.997501  7373.230013  7344.423340\n",
            "1     8  30-01-2019  6559.000000  ...  13.409803  7128.640006  7062.886686\n",
            "2    15  08-02-2019  7270.000000  ...  43.809150  6937.893327  6917.889974\n",
            "3    22  20-02-2019  6842.000000  ...  61.482660  6962.853353  6975.919954\n",
            "4    29  01-03-2019  6876.799805  ...  33.763482  6979.836686  6946.389941\n",
            "..  ...         ...          ...  ...        ...          ...          ...\n",
            "85  596  22-06-2021  6940.000000  ...  57.951175  7147.743359  7162.423340\n",
            "86  603  01-07-2021  7500.000000  ...  64.185053  7280.026660  7304.623340\n",
            "87  610  12-07-2021  7500.000000  ...  71.750087  7478.646647  7499.550065\n",
            "88  617  22-07-2021  7302.000000  ...  36.650826  7437.666667  7405.633366\n",
            "89  624  02-08-2021  7100.000000  ...  30.899834  7282.533333  7234.576660\n",
            "\n",
            "[90 rows x 17 columns]\n"
          ],
          "name": "stdout"
        }
      ]
    },
    {
      "cell_type": "code",
      "metadata": {
        "colab": {
          "base_uri": "https://localhost:8080/"
        },
        "id": "Rb9XXfdHOLyG",
        "outputId": "17e31fb7-6d56-493e-ca63-88e8d27bb563"
      },
      "source": [
        "y_predict=rf_model.predict([df.drop(['Date', user_y], axis=1).iloc[-1, :].to_numpy()])\n",
        "print(y_predict)"
      ],
      "execution_count": null,
      "outputs": [
        {
          "output_type": "stream",
          "text": [
            "[7200.13022443]\n"
          ],
          "name": "stdout"
        }
      ]
    }
  ]
}